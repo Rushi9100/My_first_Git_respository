{
  "metadata": {
    "kernelspec": {
      "name": "python",
      "display_name": "Python (Pyodide)",
      "language": "python"
    },
    "language_info": {
      "codemirror_mode": {
        "name": "python",
        "version": 3
      },
      "file_extension": ".py",
      "mimetype": "text/x-python",
      "name": "python",
      "nbconvert_exporter": "python",
      "pygments_lexer": "ipython3",
      "version": "3.8"
    }
  },
  "nbformat_minor": 4,
  "nbformat": 4,
  "cells": [
    {
      "cell_type": "code",
      "source": "visa = \"678901234\"",
      "metadata": {
        "trusted": true
      },
      "outputs": [],
      "execution_count": 9
    },
    {
      "cell_type": "code",
      "source": "FOH_Visa = (visa.split())",
      "metadata": {
        "trusted": true
      },
      "outputs": [],
      "execution_count": 10
    },
    {
      "cell_type": "code",
      "source": "print(FOH_Visa)",
      "metadata": {
        "trusted": true
      },
      "outputs": [
        {
          "name": "stdout",
          "text": "['678901234']\n",
          "output_type": "stream"
        }
      ],
      "execution_count": 13
    },
    {
      "cell_type": "code",
      "source": "import re",
      "metadata": {
        "trusted": true
      },
      "outputs": [],
      "execution_count": 14
    },
    {
      "cell_type": "code",
      "source": "s1 = \"Michael Jackson is the best\"",
      "metadata": {
        "trusted": true
      },
      "outputs": [],
      "execution_count": 15
    },
    {
      "cell_type": "code",
      "source": "pattern = r\"Jackson\"",
      "metadata": {
        "trusted": true
      },
      "outputs": [],
      "execution_count": 16
    },
    {
      "cell_type": "code",
      "source": "result = re.search(pattern, s1)",
      "metadata": {
        "trusted": true
      },
      "outputs": [],
      "execution_count": 17
    },
    {
      "cell_type": "code",
      "source": "if result:\n    print(\"Match found!\")\nelse:\n    print(\"Match not found.\")",
      "metadata": {
        "trusted": true
      },
      "outputs": [
        {
          "name": "stdout",
          "text": "Match found!\n",
          "output_type": "stream"
        }
      ],
      "execution_count": 18
    },
    {
      "cell_type": "code",
      "source": "pattern = r\"\\d\\d\\d\\d\\d\\d\\d\\d\\d\\d\"\ntext = \"My phone number is +44(0)7765404427\"\nmatch = re.search(pattern, text)\n\nif match:\n    print(\"Phone number found: \", match.group())\nelse:\n    print(\"No match\")\n\npattern = r\"\\W\"\nmatches = re.findall(pattern, text)\nprint(\"Matches: \", matches)",
      "metadata": {
        "trusted": true
      },
      "outputs": [
        {
          "name": "stdout",
          "text": "Phone number found:  7765404427\nMatches:  [' ', ' ', ' ', ' ', '+', '(', ')']\n",
          "output_type": "stream"
        }
      ],
      "execution_count": 31
    },
    {
      "cell_type": "code",
      "source": "s2 = \"Michael Jackson was a singer and the known as the 'King of Pop'\"\nresult = re.findall(\"as\", s2)\nprint(result)",
      "metadata": {
        "trusted": true
      },
      "outputs": [
        {
          "name": "stdout",
          "text": "['as', 'as']\n",
          "output_type": "stream"
        }
      ],
      "execution_count": 46
    },
    {
      "cell_type": "code",
      "source": "split_array = re.split(\"\\s\", s2)\nprint(split_array)",
      "metadata": {
        "trusted": true
      },
      "outputs": [
        {
          "name": "stdout",
          "text": "['Michael', 'Jackson', 'was', 'a', 'singer', 'and', 'the', 'known', 'as', 'the', \"'King\", 'of', \"Pop'\"]\n",
          "output_type": "stream"
        }
      ],
      "execution_count": 47
    },
    {
      "cell_type": "code",
      "source": "mas = \"5 4 6 7 3 5 5 8 7\"\n\nMAS = re.split(\"\\D\", mas)\nprint(MAS)\n\nSUM = MAS.Sum()\nprint(SUM)",
      "metadata": {
        "trusted": true
      },
      "outputs": [
        {
          "name": "stdout",
          "text": "['5', '4', '6', '7', '3', '5', '5', '8', '7']\n",
          "output_type": "stream"
        },
        {
          "ename": "<class 'AttributeError'>",
          "evalue": "'list' object has no attribute 'Sum'",
          "traceback": [
            "\u001b[0;31m---------------------------------------------------------------------------\u001b[0m",
            "\u001b[0;31mAttributeError\u001b[0m                            Traceback (most recent call last)",
            "Cell \u001b[0;32mIn[67], line 6\u001b[0m\n\u001b[1;32m      3\u001b[0m MAS \u001b[38;5;241m=\u001b[39m re\u001b[38;5;241m.\u001b[39msplit(\u001b[38;5;124m\"\u001b[39m\u001b[38;5;124m\\\u001b[39m\u001b[38;5;124mD\u001b[39m\u001b[38;5;124m\"\u001b[39m, mas)\n\u001b[1;32m      4\u001b[0m \u001b[38;5;28mprint\u001b[39m(MAS)\n\u001b[0;32m----> 6\u001b[0m SUM \u001b[38;5;241m=\u001b[39m \u001b[43mMAS\u001b[49m\u001b[38;5;241;43m.\u001b[39;49m\u001b[43mSum\u001b[49m()\n\u001b[1;32m      7\u001b[0m \u001b[38;5;28mprint\u001b[39m(SUM)\n",
            "\u001b[0;31mAttributeError\u001b[0m: 'list' object has no attribute 'Sum'"
          ],
          "output_type": "error"
        }
      ],
      "execution_count": 67
    },
    {
      "cell_type": "code",
      "source": "pattern = r\"King of Pop\"\nreplacement = \"legend\"\nnew_string = re.sub(pattern, replacement, s2, flags=re.IGNORECASE)\nprint(new_string)",
      "metadata": {
        "trusted": true
      },
      "outputs": [
        {
          "name": "stdout",
          "text": "Michael Jackson was a singer and the known as the 'legend'\n",
          "output_type": "stream"
        }
      ],
      "execution_count": 62
    },
    {
      "cell_type": "code",
      "source": "",
      "metadata": {
        "trusted": true
      },
      "outputs": [],
      "execution_count": null
    }
  ]
}